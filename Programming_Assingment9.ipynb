{
 "cells": [
  {
   "cell_type": "code",
   "execution_count": 20,
   "id": "ee8b6b63",
   "metadata": {},
   "outputs": [
    {
     "name": "stdout",
     "output_type": "stream",
     "text": [
      "enter a number135\n",
      "135 is a disarium number\n"
     ]
    }
   ],
   "source": [
    "#1.Write a Python program to check if the given number is a Disarium Number?\n",
    "n = int(input(\"enter a number\"))\n",
    "temp = n\n",
    "x=n\n",
    "\n",
    "#finding positions\n",
    "count = 0\n",
    "while temp>0:\n",
    "    temp = temp//10\n",
    "    count = count+1\n",
    "sum=0\n",
    "while x>0:\n",
    "    rem=x%10    #individual digit\n",
    "    sum=sum+rem**count\n",
    "    x=x//10\n",
    "    count=count-1\n",
    "if sum==n:\n",
    "    print(n,\"is a disarium number\")\n",
    "else:\n",
    "    print(n, \"is not a disarium number\")"
   ]
  },
  {
   "cell_type": "code",
   "execution_count": 5,
   "id": "3f173ec1",
   "metadata": {},
   "outputs": [
    {
     "name": "stdout",
     "output_type": "stream",
     "text": [
      "Disarium numbers between 1 and 100 are \n",
      "1\n",
      "2\n",
      "3\n",
      "4\n",
      "5\n",
      "6\n",
      "7\n",
      "8\n",
      "9\n",
      "89\n"
     ]
    }
   ],
   "source": [
    "#2. Write a Python program to print all disarium numbers between 1 to 100?\n",
    "def calculatelength(n):\n",
    "    length=0;\n",
    "    while(n!=0):\n",
    "        length = length + 1;\n",
    "        n =n//10;\n",
    "    return length;\n",
    "\n",
    "def sumofdigits(num):\n",
    "    rem=sum=0;\n",
    "    len = calculatelength(num);\n",
    "\n",
    "    while(num>0):\n",
    "        rem =num%10;\n",
    "        sum = sum + (rem**len);\n",
    "        num=num//10;\n",
    "        len=len-1;\n",
    "    return sum;\n",
    "    \n",
    "result = 0;\n",
    "\n",
    "print(\"Disarium numbers between 1 and 100 are \");\n",
    "for i in range(1,101):\n",
    "    result = sumofdigits(i);\n",
    "    \n",
    "    if(result==i):\n",
    "        print(i);"
   ]
  },
  {
   "cell_type": "code",
   "execution_count": 14,
   "id": "d10a56d1",
   "metadata": {},
   "outputs": [
    {
     "name": "stdout",
     "output_type": "stream",
     "text": [
      "Enter any number to ckeck happy number8\n",
      "8 is not a Happy Number\n"
     ]
    }
   ],
   "source": [
    "#3. Write a Python program to check if the given number is Happy Number?\n",
    "\n",
    "\n",
    "n = int(input(\"Enter any number to ckeck happy number\"))\n",
    "x=n\n",
    "while x>=10:\n",
    "    sum=0\n",
    "    while x>0:\n",
    "        r=x%10\n",
    "        sum = sum+(r**2)\n",
    "        x=x//10\n",
    "        print(\"sum:\",sum)\n",
    "    x=sum\n",
    "if x==1:\n",
    "    print(n,\"is a Happy Number\")\n",
    "else:\n",
    "    print(n,\"is not a Happy Number\")\n",
    "\n",
    "\n"
   ]
  },
  {
   "cell_type": "code",
   "execution_count": 20,
   "id": "f4d7f5ec",
   "metadata": {},
   "outputs": [
    {
     "name": "stdout",
     "output_type": "stream",
     "text": [
      "List of happy numbers between 1 and 100: \n",
      "1\n",
      " \n",
      "7\n",
      " \n",
      "10\n",
      " \n",
      "13\n",
      " \n",
      "19\n",
      " \n",
      "23\n",
      " \n",
      "28\n",
      " \n",
      "31\n",
      " \n",
      "32\n",
      " \n",
      "44\n",
      " \n",
      "49\n",
      " \n",
      "68\n",
      " \n",
      "70\n",
      " \n",
      "79\n",
      " \n",
      "82\n",
      " \n",
      "86\n",
      " \n",
      "91\n",
      " \n",
      "94\n",
      " \n",
      "97\n",
      " \n",
      "100\n",
      " \n"
     ]
    }
   ],
   "source": [
    "#4. Write a Python program to print all happy numbers between 1 and 100?\n",
    "\n",
    "def ishappynumber(num):\n",
    "    rem = sum = 0;\n",
    "    \n",
    "    #calculate sum of squares of digits\n",
    "    while(num>0):\n",
    "        rem = num%10;\n",
    "        sum = sum+(rem*rem);\n",
    "        num=num//10;\n",
    "    return sum;\n",
    "#diplay all happy number between 1 and 100\n",
    "print(\"List of happy numbers between 1 and 100: \");\n",
    "for i in range(1,101):\n",
    "    result =i;\n",
    "\n",
    "    #happy number always ends with 1 \n",
    "    #unhappy number ends in a cycle of repeating number which contains 4\n",
    "    \n",
    "    while(result!=1 and result!=4):\n",
    "        result = ishappynumber(result);\n",
    "        \n",
    "    if(result == 1):\n",
    "        print(i),\n",
    "        print(\" \"),\n"
   ]
  },
  {
   "cell_type": "code",
   "execution_count": 24,
   "id": "1e38dc1b",
   "metadata": {},
   "outputs": [
    {
     "name": "stdout",
     "output_type": "stream",
     "text": [
      "Enter a number 654\n",
      "654 is not a harshad number\n"
     ]
    }
   ],
   "source": [
    "#5. Write a Python program to determine whether the given number is a Harshad Number?\n",
    "\n",
    "num = int(input(\"Enter a number \"))    \n",
    "rem = sum = 0;    \n",
    "     \n",
    "#Make a copy of num and store it in variable n    \n",
    "n = num;    \n",
    "     \n",
    "#Calculates sum of digits    \n",
    "while(num > 0):    \n",
    "    rem = num%10;    \n",
    "    sum = sum + rem;    \n",
    "    num = num//10;    \n",
    "     \n",
    "#Checks whether the number is divisible by the sum of digits    \n",
    "if(n%sum == 0):    \n",
    "    print(str(n) + \" is a harshad number\");    \n",
    "else:    \n",
    "    print(str(n) + \" is not a harshad number\");    "
   ]
  },
  {
   "cell_type": "code",
   "execution_count": 25,
   "id": "7213b94f",
   "metadata": {},
   "outputs": [
    {
     "name": "stdout",
     "output_type": "stream",
     "text": [
      "Pronic numbers between 1 and 100: \n",
      "2\n",
      " \n",
      "6\n",
      " \n",
      "12\n",
      " \n",
      "20\n",
      " \n",
      "30\n",
      " \n",
      "42\n",
      " \n",
      "56\n",
      " \n",
      "72\n",
      " \n",
      "90\n",
      " \n"
     ]
    }
   ],
   "source": [
    "#6. Write a Python program to print all pronic numbers between 1 and 100?\n",
    "\n",
    "def isPronicNumber(num):    \n",
    "    flag = False;    \n",
    "        \n",
    "    for j in range(1, num+1):    \n",
    "        #Checks for pronic number by multiplying consecutive numbers    \n",
    "        if((j*(j+1)) == num):    \n",
    "            flag = True;    \n",
    "            break;    \n",
    "    return flag;    \n",
    "     \n",
    "#Displays pronic numbers between 1 and 100    \n",
    "print(\"Pronic numbers between 1 and 100: \");    \n",
    "for i in range(1, 101):    \n",
    "    if(isPronicNumber(i)):    \n",
    "        print(i),    \n",
    "        print(\" \"),  "
   ]
  },
  {
   "cell_type": "code",
   "execution_count": null,
   "id": "abb936df",
   "metadata": {},
   "outputs": [],
   "source": []
  }
 ],
 "metadata": {
  "kernelspec": {
   "display_name": "Python 3 (ipykernel)",
   "language": "python",
   "name": "python3"
  },
  "language_info": {
   "codemirror_mode": {
    "name": "ipython",
    "version": 3
   },
   "file_extension": ".py",
   "mimetype": "text/x-python",
   "name": "python",
   "nbconvert_exporter": "python",
   "pygments_lexer": "ipython3",
   "version": "3.9.13"
  }
 },
 "nbformat": 4,
 "nbformat_minor": 5
}
